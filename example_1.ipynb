{
 "cells": [
  {
   "cell_type": "markdown",
   "id": "1f47afd1-86a0-4af5-81eb-ac524cf727b2",
   "metadata": {},
   "source": [
    "<a id=''></a>\n",
    "This graph is an example of an A* problem, A starting Node A and a Goal Node G are provided, We want to find the shortest path from Node A to Node G that has the lowest path cost, Consider the graph below.\n",
    "<div dir= \"rtl\">هذا الرسم البياني هو مثال على مشكلة A*، تم توفير عقدة الداية A و عقدة الهدف G، نريد العثور على اقصر طريق من العقدة A الى العقدة G، و يحتوي على اقل تكلفة للطريق، ضع في اعتبارك الرسم البياني ادناه\n",
    "</div>"
   ]
  },
  {
   "attachments": {
    "a_Graph.png": {
     "image/png": "[encoded data removed]"
    }
   },
   "cell_type": "markdown",
   "id": "0e3780df",
   "metadata": {},
   "source": [
    "![a_Graph.png](attachment:a_Graph.png)"
   ]
  },
  {
   "cell_type": "markdown",
   "id": "4353edf3-db8a-4464-a174-56576df69314",
   "metadata": {},
   "source": [
    "![](a_graph.png)"
   ]
  },
  {
   "cell_type": "markdown",
   "id": "8affcd70-2b9a-4b08-86da-4a85d97270de",
   "metadata": {},
   "source": [
    "<a id=''></a>\n",
    "the algorithm will start by comparing f(n) between two Nodes for example it will compare the Node B and Node E \n",
    "<br>\n",
    "f(n) = h(n) + the cost from the start to the Node n\n",
    "<br>\n",
    "for Node B f(n) it will be = 2 + 2 = 4\n",
    "<br>\n",
    "for Node E f(n) it will be = 3 + 2 = 5\n",
    "<br>\n",
    "and because the value of Node B is less than Node E, the algorithm will choose Node B, and afterwards it will compare the neighbors of Node B with that already has from previously Node E \n",
    "\n",
    "<div dir= \"rtl\">ستبدأ الخوارزمية بمقارنة (f(n بين عقدتين على سبيل المثال ستقارن العقدة B والعقدة E\n",
    "    <br>\n",
    "التكلفة من البداية الى العقدة f(n) = h(n) + n  \n",
    "    <br>\n",
    "للعقدة   f(n) = 2 + 2 = 4  B\n",
    "    <br>\n",
    "للعقدة   f(n) = 3 + 2 = 5  E\n",
    "    <br>\n",
    "ولأن قيمة العقدة B اقل من قيمة العقدة E الخوارزمية ستختار العقدة B, وبعد ذلك ستقوم بالمقارنة بين جيران العقدة B و العقدة الموجودة لديها مسبقا E.\n",
    "\n",
    "</div>"
   ]
  },
  {
   "cell_type": "markdown",
   "id": "eeb90a2f-22c2-417b-a422-2a1203a3e33f",
   "metadata": {},
   "source": [
    "<a id=''></a>\n",
    "Node E f(n) = 3 + 2 = 5\n",
    "<br>\n",
    "Node D f(n) = 2 + 1 + 1 = 4\n",
    "<br>\n",
    "Node C f(n) = 2 + 3 + 5 = 10 \n",
    "<br>\n",
    "the algorithm will choose  Node D\n",
    "<br>\n",
    "therefore it will compare these three Nodes E, G and C\n",
    "\n",
    "<div dir= \"rtl\">العقدة E  f(n)   = 3 + 2 = 5\n",
    "<br>\n",
    "العقدة D f(n)  = 2 + 1 + 1 = 4\n",
    "<br>\n",
    "العقدة C f(n)  = 2 + 3 + 5 = 10\n",
    "<br>   \n",
    "ستختار الخوارزمية العقدة   D\n",
    "    ثم ستقارن هذه العقد الثلاثة\n",
    "    E و G و C  .\n",
    "\n",
    "</div>"
   ]
  },
  {
   "cell_type": "markdown",
   "id": "a6bb299a-8418-41b5-bfa5-68631a06f2f9",
   "metadata": {},
   "source": [
    "<a id=''></a>\n",
    "Node E f(n) = 3 + 2 = 5\n",
    "<br>\n",
    "Node G f(n) = 2 + 1 + 1 + 0 = 4\n",
    "<br>\n",
    "Node C f(n) = 2 + 3 + 5 = 10 \n",
    "<br>\n",
    "the algorithm will choose Node G and will check if its the goal or not, if it’s the goal it will stop searching, if not it will start searching again<br>\n",
    "<br>\n",
    "\n",
    "\n",
    "<div dir= \"rtl\">العقدة If we wish to get from the starting Node to the Goal Node in the graph below, the Search algorithm should take the path outlined below.<a id=''></a>\n",
    "E  f(n)   = 3 + 2 = 5\n",
    "<br>\n",
    "العقدة E f(n) = 3 + 2 = 5\n",
    "<br>\n",
    "العقدة C f(n) = 2 + 3 + 5 = 10\n",
    "<br>   \n",
    "ستختار الخوارزمية العقدة  G وستتحقق مما إذا كان هدفها أم لا ، وإذا كان هذا هو الهدف ، فستتوقف عن البحث ، وإذا لم تكن الهدف فستبدأ البحث مرة أخرى\n",
    "\n",
    "</div>"
   ]
  },
  {
   "cell_type": "markdown",
   "id": "b46ea961-3e32-4a44-b27b-0c354f8dc300",
   "metadata": {},
   "source": [
    "<a id=''></a>\n",
    "If we wish to get from the starting Node to the Goal Node in the graph below, the Search algorithm should take the path outlined below.\n",
    "<div dir= \"rtl\">إذا كنا نرغب في الانتقال من عقدة البداية إلى عقدة الهدف في الرسم البياني أدناه ، فيجب أن تأخذ خوارزمية البحث المسار الموضح أدناه.\n",
    "</div>"
   ]
  },
  {
   "attachments": {
    "b_graph.png": {
     "image/png": "[encoded data removed]"
    }
   },
   "cell_type": "markdown",
   "id": "29cc7592",
   "metadata": {},
   "source": [
    "![b_graph.png](attachment:b_graph.png)"
   ]
  },
  {
   "cell_type": "code",
   "execution_count": null,
   "id": "6d8f87cd",
   "metadata": {},
   "outputs": [],
   "source": []
  }
 ],
 "metadata": {
  "kernelspec": {
   "display_name": "Python 3 (ipykernel)",
   "language": "python",
   "name": "python3"
  },
  "language_info": {
   "codemirror_mode": {
    "name": "ipython",
    "version": 3
   },
   "file_extension": ".py",
   "mimetype": "text/x-python",
   "name": "python",
   "nbconvert_exporter": "python",
   "pygments_lexer": "ipython3",
   "version": "3.9.5"
  }
 },
 "nbformat": 4,
 "nbformat_minor": 5
}
